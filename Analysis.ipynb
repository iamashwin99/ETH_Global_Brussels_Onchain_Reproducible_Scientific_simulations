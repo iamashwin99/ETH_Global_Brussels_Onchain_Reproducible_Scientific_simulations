{
 "cells": [
  {
   "cell_type": "markdown",
   "metadata": {},
   "source": [
    "# Reproducibility of Scientific simulations via onchain computation"
   ]
  },
  {
   "cell_type": "code",
   "execution_count": 31,
   "metadata": {},
   "outputs": [],
   "source": [
    "import requests\n",
    "import json\n",
    "import matplotlib.pyplot as plt\n",
    "import matplotlib.patches as patches"
   ]
  },
  {
   "cell_type": "markdown",
   "metadata": {},
   "source": [
    "## Simulation of population growth"
   ]
  },
  {
   "cell_type": "markdown",
   "metadata": {},
   "source": [
    "Using the contract `population.cairo`, we can simulate the population growth at 10% PA."
   ]
  },
  {
   "cell_type": "code",
   "execution_count": 62,
   "metadata": {},
   "outputs": [],
   "source": [
    "trx_hash='0x45d19325297346b641ab03a564a3ddeae4fe3cd14721c733062e940c9c54b78'\n",
    "# https://sepolia.starkscan.co/tx/0x45d19325297346b641ab03a564a3ddeae4fe3cd14721c733062e940c9c54b78#events\n",
    "# https://sepolia.voyager.online/event/80533_37_9"
   ]
  },
  {
   "cell_type": "code",
   "execution_count": 63,
   "metadata": {},
   "outputs": [],
   "source": [
    "\n",
    "headers = {\n",
    "    'accept': 'application/json',\n",
    "    'accept-language': 'en-US,en;q=0.9,de;q=0.8',\n",
    "    'content-type': 'application/json',\n",
    "    'origin': 'https://sepolia.starkscan.co',\n",
    "    'priority': 'u=1, i',\n",
    "    'referer': 'https://sepolia.starkscan.co/',\n",
    "    'sec-ch-ua': '\"Not/A)Brand\";v=\"8\", \"Chromium\";v=\"126\", \"Microsoft Edge\";v=\"126\"',\n",
    "    'sec-ch-ua-mobile': '?0',\n",
    "    'sec-ch-ua-platform': '\"Linux\"',\n",
    "    'sec-fetch-dest': 'empty',\n",
    "    'sec-fetch-mode': 'cors',\n",
    "    'sec-fetch-site': 'same-site',\n",
    "    'user-agent': 'Mozilla/5.0 (X11; Linux x86_64) AppleWebKit/537.36 (KHTML, like Gecko) Chrome/126.0.0.0 Safari/537.36 Edg/126.0.0.0',\n",
    "}\n",
    "\n",
    "json_data = {\n",
    "    'query': 'query EventsTableQuery(\\n  $first: Int!\\n  $after: String\\n  $input: EventsInput!\\n) {\\n  ...EventsTablePaginationFragment_events_2DAjA4\\n}\\n\\nfragment EventsTablePaginationFragment_events_2DAjA4 on Query {\\n  events(first: $first, after: $after, input: $input) {\\n    edges {\\n      node {\\n        id\\n        ...EventsTableRowFragment_event\\n        __typename\\n      }\\n      cursor\\n    }\\n    pageInfo {\\n      endCursor\\n      hasNextPage\\n    }\\n  }\\n}\\n\\nfragment EventsTableRowFragment_event on Event {\\n  event_id\\n  block_number\\n  transaction_hash\\n  keys\\n  key_identifier\\n  from_address\\n  from_identifier\\n  from_contract {\\n    is_social_verified\\n    id\\n  }\\n  timestamp\\n  data_decoded\\n  data\\n}\\n',\n",
    "    'variables': {\n",
    "        'first': 30,\n",
    "        'after': None,\n",
    "        'input': {\n",
    "            'transaction_hash': f'{trx_hash}',\n",
    "            'sort_by': 'timestamp',\n",
    "            'order_by': 'desc',\n",
    "            'min_block_number': None,\n",
    "            'max_block_number': None,\n",
    "            'min_timestamp': None,\n",
    "            'max_timestamp': None,\n",
    "        },\n",
    "    },\n",
    "}\n",
    "\n",
    "response = requests.post('https://graphql-sepolia.starkscan.co/', headers=headers, json=json_data)"
   ]
  },
  {
   "cell_type": "code",
   "execution_count": 64,
   "metadata": {},
   "outputs": [
    {
     "data": {
      "text/plain": [
       "{'data': {'events': {'edges': [{'node': {'id': 'RVZFTlQ6MHgwNDVkMTkzMjUyOTczNDZiNjQxYWIwM2E1NjRhM2RkZWFlNGZlM2NkMTQ3MjFjNzMzMDYyZTk0MGM5YzU0Yjc4XzEw',\n",
       "      'event_id': '0x045d19325297346b641ab03a564a3ddeae4fe3cd14721c733062e940c9c54b78_10',\n",
       "      'block_number': 80533,\n",
       "      'transaction_hash': '0x045d19325297346b641ab03a564a3ddeae4fe3cd14721c733062e940c9c54b78',\n",
       "      'keys': ['0x99cd8bde557814842a3121e8ddfd433a539b8c9f14bf31ebf108d12e6196e9'],\n",
       "      'key_identifier': 'Transfer',\n",
       "      'from_address': '0x04718f5a0fc34cc1af16a1cdee98ffb20c31f5cd61d6ab07201858f4287c938d',\n",
       "      'from_identifier': 'StarkGate: STRK Token',\n",
       "      'from_contract': {'is_social_verified': True,\n",
       "       'id': 'Q09OVFJBQ1Q6MHgwNDcxOGY1YTBmYzM0Y2MxYWYxNmExY2RlZTk4ZmZiMjBjMzFmNWNkNjFkNmFiMDcyMDE4NThmNDI4N2M5Mzhk'},\n",
       "      'timestamp': 1720899361,\n",
       "      'data_decoded': [{'name': 'from',\n",
       "        'type': 'core::starknet::contract_address::ContractAddress',\n",
       "        'value': '0x45d4eff6a6172b8cfecc3cced1cdadf44fd0e5aa187438e7830f3990b8a218c'},\n",
       "       {'name': 'to',\n",
       "        'type': 'core::starknet::contract_address::ContractAddress',\n",
       "        'value': '0x1176a1bd84444c89232ec27754698e5d2e7e1a7f1539f12027f28b23ec9f3d8'},\n",
       "       {'name': 'value',\n",
       "        'type': 'core::integer::u256',\n",
       "        'value': [{'name': 'low',\n",
       "          'type': 'core::felt252',\n",
       "          'value': '0x110b6b1ce7c00'},\n",
       "         {'name': 'high', 'type': 'core::felt252', 'value': '0x0'}]}],\n",
       "      'data': ['0x45d4eff6a6172b8cfecc3cced1cdadf44fd0e5aa187438e7830f3990b8a218c',\n",
       "       '0x1176a1bd84444c89232ec27754698e5d2e7e1a7f1539f12027f28b23ec9f3d8',\n",
       "       '0x110b6b1ce7c00',\n",
       "       '0x0'],\n",
       "      '__typename': 'Event'},\n",
       "     'cursor': 'MTcyMDg5OTM2MTAwMDAzNzAwMDAxMA=='},\n",
       "    {'node': {'id': 'RVZFTlQ6MHgwNDVkMTkzMjUyOTczNDZiNjQxYWIwM2E1NjRhM2RkZWFlNGZlM2NkMTQ3MjFjNzMzMDYyZTk0MGM5YzU0Yjc4Xzk=',\n",
       "      'event_id': '0x045d19325297346b641ab03a564a3ddeae4fe3cd14721c733062e940c9c54b78_9',\n",
       "      'block_number': 80533,\n",
       "      'transaction_hash': '0x045d19325297346b641ab03a564a3ddeae4fe3cd14721c733062e940c9c54b78',\n",
       "      'keys': ['0x21df6344d289b18fd90cd28b6e36760e3394833f718517f8e4dd18e750c2678',\n",
       "       '0xa',\n",
       "       '0x3f52c'],\n",
       "      'key_identifier': 'PopulationUpdated',\n",
       "      'from_address': '0x028a0caef58a443c016d21a08c2d0d834c4ed22b789bcf6a97a893c292730399',\n",
       "      'from_identifier': '0x028a0caef58a443c016d21a08c2d0d834c4ed22b789bcf6a97a893c292730399',\n",
       "      'from_contract': {'is_social_verified': False,\n",
       "       'id': 'Q09OVFJBQ1Q6MHgwMjhhMGNhZWY1OGE0NDNjMDE2ZDIxYTA4YzJkMGQ4MzRjNGVkMjJiNzg5YmNmNmE5N2E4OTNjMjkyNzMwMzk5'},\n",
       "      'timestamp': 1720899361,\n",
       "      'data_decoded': [],\n",
       "      'data': [],\n",
       "      '__typename': 'Event'},\n",
       "     'cursor': 'MTcyMDg5OTM2MTAwMDAzNzAwMDAwOQ=='},\n",
       "    {'node': {'id': 'RVZFTlQ6MHgwNDVkMTkzMjUyOTczNDZiNjQxYWIwM2E1NjRhM2RkZWFlNGZlM2NkMTQ3MjFjNzMzMDYyZTk0MGM5YzU0Yjc4Xzg=',\n",
       "      'event_id': '0x045d19325297346b641ab03a564a3ddeae4fe3cd14721c733062e940c9c54b78_8',\n",
       "      'block_number': 80533,\n",
       "      'transaction_hash': '0x045d19325297346b641ab03a564a3ddeae4fe3cd14721c733062e940c9c54b78',\n",
       "      'keys': ['0x21df6344d289b18fd90cd28b6e36760e3394833f718517f8e4dd18e750c2678',\n",
       "       '0x9',\n",
       "       '0x39911'],\n",
       "      'key_identifier': 'PopulationUpdated',\n",
       "      'from_address': '0x028a0caef58a443c016d21a08c2d0d834c4ed22b789bcf6a97a893c292730399',\n",
       "      'from_identifier': '0x028a0caef58a443c016d21a08c2d0d834c4ed22b789bcf6a97a893c292730399',\n",
       "      'from_contract': {'is_social_verified': False,\n",
       "       'id': 'Q09OVFJBQ1Q6MHgwMjhhMGNhZWY1OGE0NDNjMDE2ZDIxYTA4YzJkMGQ4MzRjNGVkMjJiNzg5YmNmNmE5N2E4OTNjMjkyNzMwMzk5'},\n",
       "      'timestamp': 1720899361,\n",
       "      'data_decoded': [],\n",
       "      'data': [],\n",
       "      '__typename': 'Event'},\n",
       "     'cursor': 'MTcyMDg5OTM2MTAwMDAzNzAwMDAwOA=='},\n",
       "    {'node': {'id': 'RVZFTlQ6MHgwNDVkMTkzMjUyOTczNDZiNjQxYWIwM2E1NjRhM2RkZWFlNGZlM2NkMTQ3MjFjNzMzMDYyZTk0MGM5YzU0Yjc4Xzc=',\n",
       "      'event_id': '0x045d19325297346b641ab03a564a3ddeae4fe3cd14721c733062e940c9c54b78_7',\n",
       "      'block_number': 80533,\n",
       "      'transaction_hash': '0x045d19325297346b641ab03a564a3ddeae4fe3cd14721c733062e940c9c54b78',\n",
       "      'keys': ['0x21df6344d289b18fd90cd28b6e36760e3394833f718517f8e4dd18e750c2678',\n",
       "       '0x8',\n",
       "       '0x34556'],\n",
       "      'key_identifier': 'PopulationUpdated',\n",
       "      'from_address': '0x028a0caef58a443c016d21a08c2d0d834c4ed22b789bcf6a97a893c292730399',\n",
       "      'from_identifier': '0x028a0caef58a443c016d21a08c2d0d834c4ed22b789bcf6a97a893c292730399',\n",
       "      'from_contract': {'is_social_verified': False,\n",
       "       'id': 'Q09OVFJBQ1Q6MHgwMjhhMGNhZWY1OGE0NDNjMDE2ZDIxYTA4YzJkMGQ4MzRjNGVkMjJiNzg5YmNmNmE5N2E4OTNjMjkyNzMwMzk5'},\n",
       "      'timestamp': 1720899361,\n",
       "      'data_decoded': [],\n",
       "      'data': [],\n",
       "      '__typename': 'Event'},\n",
       "     'cursor': 'MTcyMDg5OTM2MTAwMDAzNzAwMDAwNw=='},\n",
       "    {'node': {'id': 'RVZFTlQ6MHgwNDVkMTkzMjUyOTczNDZiNjQxYWIwM2E1NjRhM2RkZWFlNGZlM2NkMTQ3MjFjNzMzMDYyZTk0MGM5YzU0Yjc4XzY=',\n",
       "      'event_id': '0x045d19325297346b641ab03a564a3ddeae4fe3cd14721c733062e940c9c54b78_6',\n",
       "      'block_number': 80533,\n",
       "      'transaction_hash': '0x045d19325297346b641ab03a564a3ddeae4fe3cd14721c733062e940c9c54b78',\n",
       "      'keys': ['0x21df6344d289b18fd90cd28b6e36760e3394833f718517f8e4dd18e750c2678',\n",
       "       '0x7',\n",
       "       '0x2f937'],\n",
       "      'key_identifier': 'PopulationUpdated',\n",
       "      'from_address': '0x028a0caef58a443c016d21a08c2d0d834c4ed22b789bcf6a97a893c292730399',\n",
       "      'from_identifier': '0x028a0caef58a443c016d21a08c2d0d834c4ed22b789bcf6a97a893c292730399',\n",
       "      'from_contract': {'is_social_verified': False,\n",
       "       'id': 'Q09OVFJBQ1Q6MHgwMjhhMGNhZWY1OGE0NDNjMDE2ZDIxYTA4YzJkMGQ4MzRjNGVkMjJiNzg5YmNmNmE5N2E4OTNjMjkyNzMwMzk5'},\n",
       "      'timestamp': 1720899361,\n",
       "      'data_decoded': [],\n",
       "      'data': [],\n",
       "      '__typename': 'Event'},\n",
       "     'cursor': 'MTcyMDg5OTM2MTAwMDAzNzAwMDAwNg=='},\n",
       "    {'node': {'id': 'RVZFTlQ6MHgwNDVkMTkzMjUyOTczNDZiNjQxYWIwM2E1NjRhM2RkZWFlNGZlM2NkMTQ3MjFjNzMzMDYyZTk0MGM5YzU0Yjc4XzU=',\n",
       "      'event_id': '0x045d19325297346b641ab03a564a3ddeae4fe3cd14721c733062e940c9c54b78_5',\n",
       "      'block_number': 80533,\n",
       "      'transaction_hash': '0x045d19325297346b641ab03a564a3ddeae4fe3cd14721c733062e940c9c54b78',\n",
       "      'keys': ['0x21df6344d289b18fd90cd28b6e36760e3394833f718517f8e4dd18e750c2678',\n",
       "       '0x6',\n",
       "       '0x2b404'],\n",
       "      'key_identifier': 'PopulationUpdated',\n",
       "      'from_address': '0x028a0caef58a443c016d21a08c2d0d834c4ed22b789bcf6a97a893c292730399',\n",
       "      'from_identifier': '0x028a0caef58a443c016d21a08c2d0d834c4ed22b789bcf6a97a893c292730399',\n",
       "      'from_contract': {'is_social_verified': False,\n",
       "       'id': 'Q09OVFJBQ1Q6MHgwMjhhMGNhZWY1OGE0NDNjMDE2ZDIxYTA4YzJkMGQ4MzRjNGVkMjJiNzg5YmNmNmE5N2E4OTNjMjkyNzMwMzk5'},\n",
       "      'timestamp': 1720899361,\n",
       "      'data_decoded': [],\n",
       "      'data': [],\n",
       "      '__typename': 'Event'},\n",
       "     'cursor': 'MTcyMDg5OTM2MTAwMDAzNzAwMDAwNQ=='},\n",
       "    {'node': {'id': 'RVZFTlQ6MHgwNDVkMTkzMjUyOTczNDZiNjQxYWIwM2E1NjRhM2RkZWFlNGZlM2NkMTQ3MjFjNzMzMDYyZTk0MGM5YzU0Yjc4XzQ=',\n",
       "      'event_id': '0x045d19325297346b641ab03a564a3ddeae4fe3cd14721c733062e940c9c54b78_4',\n",
       "      'block_number': 80533,\n",
       "      'transaction_hash': '0x045d19325297346b641ab03a564a3ddeae4fe3cd14721c733062e940c9c54b78',\n",
       "      'keys': ['0x21df6344d289b18fd90cd28b6e36760e3394833f718517f8e4dd18e750c2678',\n",
       "       '0x5',\n",
       "       '0x2751b'],\n",
       "      'key_identifier': 'PopulationUpdated',\n",
       "      'from_address': '0x028a0caef58a443c016d21a08c2d0d834c4ed22b789bcf6a97a893c292730399',\n",
       "      'from_identifier': '0x028a0caef58a443c016d21a08c2d0d834c4ed22b789bcf6a97a893c292730399',\n",
       "      'from_contract': {'is_social_verified': False,\n",
       "       'id': 'Q09OVFJBQ1Q6MHgwMjhhMGNhZWY1OGE0NDNjMDE2ZDIxYTA4YzJkMGQ4MzRjNGVkMjJiNzg5YmNmNmE5N2E4OTNjMjkyNzMwMzk5'},\n",
       "      'timestamp': 1720899361,\n",
       "      'data_decoded': [],\n",
       "      'data': [],\n",
       "      '__typename': 'Event'},\n",
       "     'cursor': 'MTcyMDg5OTM2MTAwMDAzNzAwMDAwNA=='},\n",
       "    {'node': {'id': 'RVZFTlQ6MHgwNDVkMTkzMjUyOTczNDZiNjQxYWIwM2E1NjRhM2RkZWFlNGZlM2NkMTQ3MjFjNzMzMDYyZTk0MGM5YzU0Yjc4XzM=',\n",
       "      'event_id': '0x045d19325297346b641ab03a564a3ddeae4fe3cd14721c733062e940c9c54b78_3',\n",
       "      'block_number': 80533,\n",
       "      'transaction_hash': '0x045d19325297346b641ab03a564a3ddeae4fe3cd14721c733062e940c9c54b78',\n",
       "      'keys': ['0x21df6344d289b18fd90cd28b6e36760e3394833f718517f8e4dd18e750c2678',\n",
       "       '0x4',\n",
       "       '0x23bea'],\n",
       "      'key_identifier': 'PopulationUpdated',\n",
       "      'from_address': '0x028a0caef58a443c016d21a08c2d0d834c4ed22b789bcf6a97a893c292730399',\n",
       "      'from_identifier': '0x028a0caef58a443c016d21a08c2d0d834c4ed22b789bcf6a97a893c292730399',\n",
       "      'from_contract': {'is_social_verified': False,\n",
       "       'id': 'Q09OVFJBQ1Q6MHgwMjhhMGNhZWY1OGE0NDNjMDE2ZDIxYTA4YzJkMGQ4MzRjNGVkMjJiNzg5YmNmNmE5N2E4OTNjMjkyNzMwMzk5'},\n",
       "      'timestamp': 1720899361,\n",
       "      'data_decoded': [],\n",
       "      'data': [],\n",
       "      '__typename': 'Event'},\n",
       "     'cursor': 'MTcyMDg5OTM2MTAwMDAzNzAwMDAwMw=='},\n",
       "    {'node': {'id': 'RVZFTlQ6MHgwNDVkMTkzMjUyOTczNDZiNjQxYWIwM2E1NjRhM2RkZWFlNGZlM2NkMTQ3MjFjNzMzMDYyZTk0MGM5YzU0Yjc4XzI=',\n",
       "      'event_id': '0x045d19325297346b641ab03a564a3ddeae4fe3cd14721c733062e940c9c54b78_2',\n",
       "      'block_number': 80533,\n",
       "      'transaction_hash': '0x045d19325297346b641ab03a564a3ddeae4fe3cd14721c733062e940c9c54b78',\n",
       "      'keys': ['0x21df6344d289b18fd90cd28b6e36760e3394833f718517f8e4dd18e750c2678',\n",
       "       '0x3',\n",
       "       '0x207ec'],\n",
       "      'key_identifier': 'PopulationUpdated',\n",
       "      'from_address': '0x028a0caef58a443c016d21a08c2d0d834c4ed22b789bcf6a97a893c292730399',\n",
       "      'from_identifier': '0x028a0caef58a443c016d21a08c2d0d834c4ed22b789bcf6a97a893c292730399',\n",
       "      'from_contract': {'is_social_verified': False,\n",
       "       'id': 'Q09OVFJBQ1Q6MHgwMjhhMGNhZWY1OGE0NDNjMDE2ZDIxYTA4YzJkMGQ4MzRjNGVkMjJiNzg5YmNmNmE5N2E4OTNjMjkyNzMwMzk5'},\n",
       "      'timestamp': 1720899361,\n",
       "      'data_decoded': [],\n",
       "      'data': [],\n",
       "      '__typename': 'Event'},\n",
       "     'cursor': 'MTcyMDg5OTM2MTAwMDAzNzAwMDAwMg=='},\n",
       "    {'node': {'id': 'RVZFTlQ6MHgwNDVkMTkzMjUyOTczNDZiNjQxYWIwM2E1NjRhM2RkZWFlNGZlM2NkMTQ3MjFjNzMzMDYyZTk0MGM5YzU0Yjc4XzE=',\n",
       "      'event_id': '0x045d19325297346b641ab03a564a3ddeae4fe3cd14721c733062e940c9c54b78_1',\n",
       "      'block_number': 80533,\n",
       "      'transaction_hash': '0x045d19325297346b641ab03a564a3ddeae4fe3cd14721c733062e940c9c54b78',\n",
       "      'keys': ['0x21df6344d289b18fd90cd28b6e36760e3394833f718517f8e4dd18e750c2678',\n",
       "       '0x2',\n",
       "       '0x1d8a8'],\n",
       "      'key_identifier': 'PopulationUpdated',\n",
       "      'from_address': '0x028a0caef58a443c016d21a08c2d0d834c4ed22b789bcf6a97a893c292730399',\n",
       "      'from_identifier': '0x028a0caef58a443c016d21a08c2d0d834c4ed22b789bcf6a97a893c292730399',\n",
       "      'from_contract': {'is_social_verified': False,\n",
       "       'id': 'Q09OVFJBQ1Q6MHgwMjhhMGNhZWY1OGE0NDNjMDE2ZDIxYTA4YzJkMGQ4MzRjNGVkMjJiNzg5YmNmNmE5N2E4OTNjMjkyNzMwMzk5'},\n",
       "      'timestamp': 1720899361,\n",
       "      'data_decoded': [],\n",
       "      'data': [],\n",
       "      '__typename': 'Event'},\n",
       "     'cursor': 'MTcyMDg5OTM2MTAwMDAzNzAwMDAwMQ=='},\n",
       "    {'node': {'id': 'RVZFTlQ6MHgwNDVkMTkzMjUyOTczNDZiNjQxYWIwM2E1NjRhM2RkZWFlNGZlM2NkMTQ3MjFjNzMzMDYyZTk0MGM5YzU0Yjc4XzA=',\n",
       "      'event_id': '0x045d19325297346b641ab03a564a3ddeae4fe3cd14721c733062e940c9c54b78_0',\n",
       "      'block_number': 80533,\n",
       "      'transaction_hash': '0x045d19325297346b641ab03a564a3ddeae4fe3cd14721c733062e940c9c54b78',\n",
       "      'keys': ['0x21df6344d289b18fd90cd28b6e36760e3394833f718517f8e4dd18e750c2678',\n",
       "       '0x1',\n",
       "       '0x1adb0'],\n",
       "      'key_identifier': 'PopulationUpdated',\n",
       "      'from_address': '0x028a0caef58a443c016d21a08c2d0d834c4ed22b789bcf6a97a893c292730399',\n",
       "      'from_identifier': '0x028a0caef58a443c016d21a08c2d0d834c4ed22b789bcf6a97a893c292730399',\n",
       "      'from_contract': {'is_social_verified': False,\n",
       "       'id': 'Q09OVFJBQ1Q6MHgwMjhhMGNhZWY1OGE0NDNjMDE2ZDIxYTA4YzJkMGQ4MzRjNGVkMjJiNzg5YmNmNmE5N2E4OTNjMjkyNzMwMzk5'},\n",
       "      'timestamp': 1720899361,\n",
       "      'data_decoded': [],\n",
       "      'data': [],\n",
       "      '__typename': 'Event'},\n",
       "     'cursor': 'MTcyMDg5OTM2MTAwMDAzNzAwMDAwMA=='}],\n",
       "   'pageInfo': {'endCursor': None, 'hasNextPage': False}}}}"
      ]
     },
     "execution_count": 64,
     "metadata": {},
     "output_type": "execute_result"
    }
   ],
   "source": [
    "events = json.loads(response.text)\n",
    "events"
   ]
  },
  {
   "cell_type": "code",
   "execution_count": 65,
   "metadata": {},
   "outputs": [],
   "source": [
    "no_events = len(events['data']['events']['edges'])"
   ]
  },
  {
   "cell_type": "code",
   "execution_count": 66,
   "metadata": {},
   "outputs": [],
   "source": [
    "year_list = []\n",
    "population_list = []\n",
    "for i in range(no_events):\n",
    "    if i == 0:\n",
    "        # the first one is just a header\n",
    "        continue\n",
    "    try:\n",
    "        _,year,population=(events['data']['events']['edges'][i]['node']['keys'])\n",
    "    except Exception as e:\n",
    "        pass\n",
    "    year = int(year,16)\n",
    "    population = int(population,16)\n",
    "    # print(year, population)\n",
    "    year_list.append(year)\n",
    "    population_list.append(population)\n",
    "\n"
   ]
  },
  {
   "cell_type": "code",
   "execution_count": 69,
   "metadata": {},
   "outputs": [
    {
     "data": {
      "image/png": "[encoded data removed]",
      "text/plain": [
       "<Figure size 640x480 with 1 Axes>"
      ]
     },
     "metadata": {},
     "output_type": "display_data"
    }
   ],
   "source": [
    "# Print the simulated result, population vs year count\n",
    "\n",
    "plt.plot(year_list, population_list, 'x')\n",
    "plt.xlabel('Year')\n",
    "plt.ylabel('Population')\n",
    "plt.title('Population Growth at 10% PA')\n",
    "plt.show()"
   ]
  },
  {
   "cell_type": "code",
   "execution_count": 68,
   "metadata": {},
   "outputs": [
    {
     "data": {
      "text/plain": [
       "[259372,\n",
       " 235793,\n",
       " 214358,\n",
       " 194871,\n",
       " 177156,\n",
       " 161051,\n",
       " 146410,\n",
       " 133100,\n",
       " 121000,\n",
       " 110000]"
      ]
     },
     "execution_count": 68,
     "metadata": {},
     "output_type": "execute_result"
    }
   ],
   "source": [
    "population_list"
   ]
  },
  {
   "cell_type": "markdown",
   "metadata": {},
   "source": [
    "## Simulation of 1d ising model"
   ]
  },
  {
   "cell_type": "code",
   "execution_count": 76,
   "metadata": {},
   "outputs": [],
   "source": [
    "trx_hash='0x1298f9914701553db707b23e6389afbf74b9f13315413aedda7db94e8d09e97'\n",
    "# https://sepolia.starkscan.co/tx/0x1298f9914701553db707b23e6389afbf74b9f13315413aedda7db94e8d09e97#events\n",
    "# https://sepolia.voyager.online/event/80601_2_5"
   ]
  },
  {
   "cell_type": "code",
   "execution_count": 77,
   "metadata": {},
   "outputs": [],
   "source": [
    "\n",
    "headers = {\n",
    "    'accept': 'application/json',\n",
    "    'accept-language': 'en-US,en;q=0.9,de;q=0.8',\n",
    "    'content-type': 'application/json',\n",
    "    'origin': 'https://sepolia.starkscan.co',\n",
    "    'priority': 'u=1, i',\n",
    "    'referer': 'https://sepolia.starkscan.co/',\n",
    "    'sec-ch-ua': '\"Not/A)Brand\";v=\"8\", \"Chromium\";v=\"126\", \"Microsoft Edge\";v=\"126\"',\n",
    "    'sec-ch-ua-mobile': '?0',\n",
    "    'sec-ch-ua-platform': '\"Linux\"',\n",
    "    'sec-fetch-dest': 'empty',\n",
    "    'sec-fetch-mode': 'cors',\n",
    "    'sec-fetch-site': 'same-site',\n",
    "    'user-agent': 'Mozilla/5.0 (X11; Linux x86_64) AppleWebKit/537.36 (KHTML, like Gecko) Chrome/126.0.0.0 Safari/537.36 Edg/126.0.0.0',\n",
    "}\n",
    "\n",
    "json_data = {\n",
    "    'query': 'query EventsTableQuery(\\n  $first: Int!\\n  $after: String\\n  $input: EventsInput!\\n) {\\n  ...EventsTablePaginationFragment_events_2DAjA4\\n}\\n\\nfragment EventsTablePaginationFragment_events_2DAjA4 on Query {\\n  events(first: $first, after: $after, input: $input) {\\n    edges {\\n      node {\\n        id\\n        ...EventsTableRowFragment_event\\n        __typename\\n      }\\n      cursor\\n    }\\n    pageInfo {\\n      endCursor\\n      hasNextPage\\n    }\\n  }\\n}\\n\\nfragment EventsTableRowFragment_event on Event {\\n  event_id\\n  block_number\\n  transaction_hash\\n  keys\\n  key_identifier\\n  from_address\\n  from_identifier\\n  from_contract {\\n    is_social_verified\\n    id\\n  }\\n  timestamp\\n  data_decoded\\n  data\\n}\\n',\n",
    "    'variables': {\n",
    "        'first': 30,\n",
    "        'after': None,\n",
    "        'input': {\n",
    "            'transaction_hash': f'{trx_hash}',\n",
    "            'sort_by': 'timestamp',\n",
    "            'order_by': 'desc',\n",
    "            'min_block_number': None,\n",
    "            'max_block_number': None,\n",
    "            'min_timestamp': None,\n",
    "            'max_timestamp': None,\n",
    "        },\n",
    "    },\n",
    "}\n",
    "\n",
    "response = requests.post('https://graphql-sepolia.starkscan.co/', headers=headers, json=json_data)"
   ]
  },
  {
   "cell_type": "code",
   "execution_count": 78,
   "metadata": {},
   "outputs": [
    {
     "data": {
      "text/plain": [
       "{'data': {'events': {'edges': [{'node': {'id': 'RVZFTlQ6MHgwMTI5OGY5OTE0NzAxNTUzZGI3MDdiMjNlNjM4OWFmYmY3NGI5ZjEzMzE1NDEzYWVkZGE3ZGI5NGU4ZDA5ZTk3XzEw',\n",
       "      'event_id': '0x01298f9914701553db707b23e6389afbf74b9f13315413aedda7db94e8d09e97_10',\n",
       "      'block_number': 80601,\n",
       "      'transaction_hash': '0x01298f9914701553db707b23e6389afbf74b9f13315413aedda7db94e8d09e97',\n",
       "      'keys': ['0x99cd8bde557814842a3121e8ddfd433a539b8c9f14bf31ebf108d12e6196e9'],\n",
       "      'key_identifier': 'Transfer',\n",
       "      'from_address': '0x04718f5a0fc34cc1af16a1cdee98ffb20c31f5cd61d6ab07201858f4287c938d',\n",
       "      'from_identifier': 'StarkGate: STRK Token',\n",
       "      'from_contract': {'is_social_verified': True,\n",
       "       'id': 'Q09OVFJBQ1Q6MHgwNDcxOGY1YTBmYzM0Y2MxYWYxNmExY2RlZTk4ZmZiMjBjMzFmNWNkNjFkNmFiMDcyMDE4NThmNDI4N2M5Mzhk'},\n",
       "      'timestamp': 1720924546,\n",
       "      'data_decoded': [{'name': 'from',\n",
       "        'type': 'core::starknet::contract_address::ContractAddress',\n",
       "        'value': '0x45d4eff6a6172b8cfecc3cced1cdadf44fd0e5aa187438e7830f3990b8a218c'},\n",
       "       {'name': 'to',\n",
       "        'type': 'core::starknet::contract_address::ContractAddress',\n",
       "        'value': '0x1176a1bd84444c89232ec27754698e5d2e7e1a7f1539f12027f28b23ec9f3d8'},\n",
       "       {'name': 'value',\n",
       "        'type': 'core::integer::u256',\n",
       "        'value': [{'name': 'low',\n",
       "          'type': 'core::felt252',\n",
       "          'value': '0xf6152c80b5f0'},\n",
       "         {'name': 'high', 'type': 'core::felt252', 'value': '0x0'}]}],\n",
       "      'data': ['0x45d4eff6a6172b8cfecc3cced1cdadf44fd0e5aa187438e7830f3990b8a218c',\n",
       "       '0x1176a1bd84444c89232ec27754698e5d2e7e1a7f1539f12027f28b23ec9f3d8',\n",
       "       '0xf6152c80b5f0',\n",
       "       '0x0'],\n",
       "      '__typename': 'Event'},\n",
       "     'cursor': 'MTcyMDkyNDU0NjAwMDAwMjAwMDAxMA=='},\n",
       "    {'node': {'id': 'RVZFTlQ6MHgwMTI5OGY5OTE0NzAxNTUzZGI3MDdiMjNlNjM4OWFmYmY3NGI5ZjEzMzE1NDEzYWVkZGE3ZGI5NGU4ZDA5ZTk3Xzk=',\n",
       "      'event_id': '0x01298f9914701553db707b23e6389afbf74b9f13315413aedda7db94e8d09e97_9',\n",
       "      'block_number': 80601,\n",
       "      'transaction_hash': '0x01298f9914701553db707b23e6389afbf74b9f13315413aedda7db94e8d09e97',\n",
       "      'keys': ['0x21df6344d289b18fd90cd28b6e36760e3394833f718517f8e4dd18e750c2678',\n",
       "       '0x0'],\n",
       "      'key_identifier': 'PopulationUpdated',\n",
       "      'from_address': '0x06c84db593e596c122b53a82efd831738ba74110b15bc1583edbeb695eec3df2',\n",
       "      'from_identifier': '0x06c84db593e596c122b53a82efd831738ba74110b15bc1583edbeb695eec3df2',\n",
       "      'from_contract': {'is_social_verified': False,\n",
       "       'id': 'Q09OVFJBQ1Q6MHgwNmM4NGRiNTkzZTU5NmMxMjJiNTNhODJlZmQ4MzE3MzhiYTc0MTEwYjE1YmMxNTgzZWRiZWI2OTVlZWMzZGYy'},\n",
       "      'timestamp': 1720924546,\n",
       "      'data_decoded': [],\n",
       "      'data': [],\n",
       "      '__typename': 'Event'},\n",
       "     'cursor': 'MTcyMDkyNDU0NjAwMDAwMjAwMDAwOQ=='},\n",
       "    {'node': {'id': 'RVZFTlQ6MHgwMTI5OGY5OTE0NzAxNTUzZGI3MDdiMjNlNjM4OWFmYmY3NGI5ZjEzMzE1NDEzYWVkZGE3ZGI5NGU4ZDA5ZTk3Xzg=',\n",
       "      'event_id': '0x01298f9914701553db707b23e6389afbf74b9f13315413aedda7db94e8d09e97_8',\n",
       "      'block_number': 80601,\n",
       "      'transaction_hash': '0x01298f9914701553db707b23e6389afbf74b9f13315413aedda7db94e8d09e97',\n",
       "      'keys': ['0x21df6344d289b18fd90cd28b6e36760e3394833f718517f8e4dd18e750c2678',\n",
       "       '0x0'],\n",
       "      'key_identifier': 'PopulationUpdated',\n",
       "      'from_address': '0x06c84db593e596c122b53a82efd831738ba74110b15bc1583edbeb695eec3df2',\n",
       "      'from_identifier': '0x06c84db593e596c122b53a82efd831738ba74110b15bc1583edbeb695eec3df2',\n",
       "      'from_contract': {'is_social_verified': False,\n",
       "       'id': 'Q09OVFJBQ1Q6MHgwNmM4NGRiNTkzZTU5NmMxMjJiNTNhODJlZmQ4MzE3MzhiYTc0MTEwYjE1YmMxNTgzZWRiZWI2OTVlZWMzZGYy'},\n",
       "      'timestamp': 1720924546,\n",
       "      'data_decoded': [],\n",
       "      'data': [],\n",
       "      '__typename': 'Event'},\n",
       "     'cursor': 'MTcyMDkyNDU0NjAwMDAwMjAwMDAwOA=='},\n",
       "    {'node': {'id': 'RVZFTlQ6MHgwMTI5OGY5OTE0NzAxNTUzZGI3MDdiMjNlNjM4OWFmYmY3NGI5ZjEzMzE1NDEzYWVkZGE3ZGI5NGU4ZDA5ZTk3Xzc=',\n",
       "      'event_id': '0x01298f9914701553db707b23e6389afbf74b9f13315413aedda7db94e8d09e97_7',\n",
       "      'block_number': 80601,\n",
       "      'transaction_hash': '0x01298f9914701553db707b23e6389afbf74b9f13315413aedda7db94e8d09e97',\n",
       "      'keys': ['0x21df6344d289b18fd90cd28b6e36760e3394833f718517f8e4dd18e750c2678',\n",
       "       '0x8'],\n",
       "      'key_identifier': 'PopulationUpdated',\n",
       "      'from_address': '0x06c84db593e596c122b53a82efd831738ba74110b15bc1583edbeb695eec3df2',\n",
       "      'from_identifier': '0x06c84db593e596c122b53a82efd831738ba74110b15bc1583edbeb695eec3df2',\n",
       "      'from_contract': {'is_social_verified': False,\n",
       "       'id': 'Q09OVFJBQ1Q6MHgwNmM4NGRiNTkzZTU5NmMxMjJiNTNhODJlZmQ4MzE3MzhiYTc0MTEwYjE1YmMxNTgzZWRiZWI2OTVlZWMzZGYy'},\n",
       "      'timestamp': 1720924546,\n",
       "      'data_decoded': [],\n",
       "      'data': [],\n",
       "      '__typename': 'Event'},\n",
       "     'cursor': 'MTcyMDkyNDU0NjAwMDAwMjAwMDAwNw=='},\n",
       "    {'node': {'id': 'RVZFTlQ6MHgwMTI5OGY5OTE0NzAxNTUzZGI3MDdiMjNlNjM4OWFmYmY3NGI5ZjEzMzE1NDEzYWVkZGE3ZGI5NGU4ZDA5ZTk3XzY=',\n",
       "      'event_id': '0x01298f9914701553db707b23e6389afbf74b9f13315413aedda7db94e8d09e97_6',\n",
       "      'block_number': 80601,\n",
       "      'transaction_hash': '0x01298f9914701553db707b23e6389afbf74b9f13315413aedda7db94e8d09e97',\n",
       "      'keys': ['0x21df6344d289b18fd90cd28b6e36760e3394833f718517f8e4dd18e750c2678',\n",
       "       '0xa'],\n",
       "      'key_identifier': 'PopulationUpdated',\n",
       "      'from_address': '0x06c84db593e596c122b53a82efd831738ba74110b15bc1583edbeb695eec3df2',\n",
       "      'from_identifier': '0x06c84db593e596c122b53a82efd831738ba74110b15bc1583edbeb695eec3df2',\n",
       "      'from_contract': {'is_social_verified': False,\n",
       "       'id': 'Q09OVFJBQ1Q6MHgwNmM4NGRiNTkzZTU5NmMxMjJiNTNhODJlZmQ4MzE3MzhiYTc0MTEwYjE1YmMxNTgzZWRiZWI2OTVlZWMzZGYy'},\n",
       "      'timestamp': 1720924546,\n",
       "      'data_decoded': [],\n",
       "      'data': [],\n",
       "      '__typename': 'Event'},\n",
       "     'cursor': 'MTcyMDkyNDU0NjAwMDAwMjAwMDAwNg=='},\n",
       "    {'node': {'id': 'RVZFTlQ6MHgwMTI5OGY5OTE0NzAxNTUzZGI3MDdiMjNlNjM4OWFmYmY3NGI5ZjEzMzE1NDEzYWVkZGE3ZGI5NGU4ZDA5ZTk3XzU=',\n",
       "      'event_id': '0x01298f9914701553db707b23e6389afbf74b9f13315413aedda7db94e8d09e97_5',\n",
       "      'block_number': 80601,\n",
       "      'transaction_hash': '0x01298f9914701553db707b23e6389afbf74b9f13315413aedda7db94e8d09e97',\n",
       "      'keys': ['0x21df6344d289b18fd90cd28b6e36760e3394833f718517f8e4dd18e750c2678',\n",
       "       '0x1a'],\n",
       "      'key_identifier': 'PopulationUpdated',\n",
       "      'from_address': '0x06c84db593e596c122b53a82efd831738ba74110b15bc1583edbeb695eec3df2',\n",
       "      'from_identifier': '0x06c84db593e596c122b53a82efd831738ba74110b15bc1583edbeb695eec3df2',\n",
       "      'from_contract': {'is_social_verified': False,\n",
       "       'id': 'Q09OVFJBQ1Q6MHgwNmM4NGRiNTkzZTU5NmMxMjJiNTNhODJlZmQ4MzE3MzhiYTc0MTEwYjE1YmMxNTgzZWRiZWI2OTVlZWMzZGYy'},\n",
       "      'timestamp': 1720924546,\n",
       "      'data_decoded': [],\n",
       "      'data': [],\n",
       "      '__typename': 'Event'},\n",
       "     'cursor': 'MTcyMDkyNDU0NjAwMDAwMjAwMDAwNQ=='},\n",
       "    {'node': {'id': 'RVZFTlQ6MHgwMTI5OGY5OTE0NzAxNTUzZGI3MDdiMjNlNjM4OWFmYmY3NGI5ZjEzMzE1NDEzYWVkZGE3ZGI5NGU4ZDA5ZTk3XzQ=',\n",
       "      'event_id': '0x01298f9914701553db707b23e6389afbf74b9f13315413aedda7db94e8d09e97_4',\n",
       "      'block_number': 80601,\n",
       "      'transaction_hash': '0x01298f9914701553db707b23e6389afbf74b9f13315413aedda7db94e8d09e97',\n",
       "      'keys': ['0x21df6344d289b18fd90cd28b6e36760e3394833f718517f8e4dd18e750c2678',\n",
       "       '0x1e'],\n",
       "      'key_identifier': 'PopulationUpdated',\n",
       "      'from_address': '0x06c84db593e596c122b53a82efd831738ba74110b15bc1583edbeb695eec3df2',\n",
       "      'from_identifier': '0x06c84db593e596c122b53a82efd831738ba74110b15bc1583edbeb695eec3df2',\n",
       "      'from_contract': {'is_social_verified': False,\n",
       "       'id': 'Q09OVFJBQ1Q6MHgwNmM4NGRiNTkzZTU5NmMxMjJiNTNhODJlZmQ4MzE3MzhiYTc0MTEwYjE1YmMxNTgzZWRiZWI2OTVlZWMzZGYy'},\n",
       "      'timestamp': 1720924546,\n",
       "      'data_decoded': [],\n",
       "      'data': [],\n",
       "      '__typename': 'Event'},\n",
       "     'cursor': 'MTcyMDkyNDU0NjAwMDAwMjAwMDAwNA=='},\n",
       "    {'node': {'id': 'RVZFTlQ6MHgwMTI5OGY5OTE0NzAxNTUzZGI3MDdiMjNlNjM4OWFmYmY3NGI5ZjEzMzE1NDEzYWVkZGE3ZGI5NGU4ZDA5ZTk3XzM=',\n",
       "      'event_id': '0x01298f9914701553db707b23e6389afbf74b9f13315413aedda7db94e8d09e97_3',\n",
       "      'block_number': 80601,\n",
       "      'transaction_hash': '0x01298f9914701553db707b23e6389afbf74b9f13315413aedda7db94e8d09e97',\n",
       "      'keys': ['0x21df6344d289b18fd90cd28b6e36760e3394833f718517f8e4dd18e750c2678',\n",
       "       '0x1e'],\n",
       "      'key_identifier': 'PopulationUpdated',\n",
       "      'from_address': '0x06c84db593e596c122b53a82efd831738ba74110b15bc1583edbeb695eec3df2',\n",
       "      'from_identifier': '0x06c84db593e596c122b53a82efd831738ba74110b15bc1583edbeb695eec3df2',\n",
       "      'from_contract': {'is_social_verified': False,\n",
       "       'id': 'Q09OVFJBQ1Q6MHgwNmM4NGRiNTkzZTU5NmMxMjJiNTNhODJlZmQ4MzE3MzhiYTc0MTEwYjE1YmMxNTgzZWRiZWI2OTVlZWMzZGYy'},\n",
       "      'timestamp': 1720924546,\n",
       "      'data_decoded': [],\n",
       "      'data': [],\n",
       "      '__typename': 'Event'},\n",
       "     'cursor': 'MTcyMDkyNDU0NjAwMDAwMjAwMDAwMw=='},\n",
       "    {'node': {'id': 'RVZFTlQ6MHgwMTI5OGY5OTE0NzAxNTUzZGI3MDdiMjNlNjM4OWFmYmY3NGI5ZjEzMzE1NDEzYWVkZGE3ZGI5NGU4ZDA5ZTk3XzI=',\n",
       "      'event_id': '0x01298f9914701553db707b23e6389afbf74b9f13315413aedda7db94e8d09e97_2',\n",
       "      'block_number': 80601,\n",
       "      'transaction_hash': '0x01298f9914701553db707b23e6389afbf74b9f13315413aedda7db94e8d09e97',\n",
       "      'keys': ['0x21df6344d289b18fd90cd28b6e36760e3394833f718517f8e4dd18e750c2678',\n",
       "       '0x16'],\n",
       "      'key_identifier': 'PopulationUpdated',\n",
       "      'from_address': '0x06c84db593e596c122b53a82efd831738ba74110b15bc1583edbeb695eec3df2',\n",
       "      'from_identifier': '0x06c84db593e596c122b53a82efd831738ba74110b15bc1583edbeb695eec3df2',\n",
       "      'from_contract': {'is_social_verified': False,\n",
       "       'id': 'Q09OVFJBQ1Q6MHgwNmM4NGRiNTkzZTU5NmMxMjJiNTNhODJlZmQ4MzE3MzhiYTc0MTEwYjE1YmMxNTgzZWRiZWI2OTVlZWMzZGYy'},\n",
       "      'timestamp': 1720924546,\n",
       "      'data_decoded': [],\n",
       "      'data': [],\n",
       "      '__typename': 'Event'},\n",
       "     'cursor': 'MTcyMDkyNDU0NjAwMDAwMjAwMDAwMg=='},\n",
       "    {'node': {'id': 'RVZFTlQ6MHgwMTI5OGY5OTE0NzAxNTUzZGI3MDdiMjNlNjM4OWFmYmY3NGI5ZjEzMzE1NDEzYWVkZGE3ZGI5NGU4ZDA5ZTk3XzE=',\n",
       "      'event_id': '0x01298f9914701553db707b23e6389afbf74b9f13315413aedda7db94e8d09e97_1',\n",
       "      'block_number': 80601,\n",
       "      'transaction_hash': '0x01298f9914701553db707b23e6389afbf74b9f13315413aedda7db94e8d09e97',\n",
       "      'keys': ['0x21df6344d289b18fd90cd28b6e36760e3394833f718517f8e4dd18e750c2678',\n",
       "       '0x14'],\n",
       "      'key_identifier': 'PopulationUpdated',\n",
       "      'from_address': '0x06c84db593e596c122b53a82efd831738ba74110b15bc1583edbeb695eec3df2',\n",
       "      'from_identifier': '0x06c84db593e596c122b53a82efd831738ba74110b15bc1583edbeb695eec3df2',\n",
       "      'from_contract': {'is_social_verified': False,\n",
       "       'id': 'Q09OVFJBQ1Q6MHgwNmM4NGRiNTkzZTU5NmMxMjJiNTNhODJlZmQ4MzE3MzhiYTc0MTEwYjE1YmMxNTgzZWRiZWI2OTVlZWMzZGYy'},\n",
       "      'timestamp': 1720924546,\n",
       "      'data_decoded': [],\n",
       "      'data': [],\n",
       "      '__typename': 'Event'},\n",
       "     'cursor': 'MTcyMDkyNDU0NjAwMDAwMjAwMDAwMQ=='},\n",
       "    {'node': {'id': 'RVZFTlQ6MHgwMTI5OGY5OTE0NzAxNTUzZGI3MDdiMjNlNjM4OWFmYmY3NGI5ZjEzMzE1NDEzYWVkZGE3ZGI5NGU4ZDA5ZTk3XzA=',\n",
       "      'event_id': '0x01298f9914701553db707b23e6389afbf74b9f13315413aedda7db94e8d09e97_0',\n",
       "      'block_number': 80601,\n",
       "      'transaction_hash': '0x01298f9914701553db707b23e6389afbf74b9f13315413aedda7db94e8d09e97',\n",
       "      'keys': ['0x21df6344d289b18fd90cd28b6e36760e3394833f718517f8e4dd18e750c2678',\n",
       "       '0x4'],\n",
       "      'key_identifier': 'PopulationUpdated',\n",
       "      'from_address': '0x06c84db593e596c122b53a82efd831738ba74110b15bc1583edbeb695eec3df2',\n",
       "      'from_identifier': '0x06c84db593e596c122b53a82efd831738ba74110b15bc1583edbeb695eec3df2',\n",
       "      'from_contract': {'is_social_verified': False,\n",
       "       'id': 'Q09OVFJBQ1Q6MHgwNmM4NGRiNTkzZTU5NmMxMjJiNTNhODJlZmQ4MzE3MzhiYTc0MTEwYjE1YmMxNTgzZWRiZWI2OTVlZWMzZGYy'},\n",
       "      'timestamp': 1720924546,\n",
       "      'data_decoded': [],\n",
       "      'data': [],\n",
       "      '__typename': 'Event'},\n",
       "     'cursor': 'MTcyMDkyNDU0NjAwMDAwMjAwMDAwMA=='}],\n",
       "   'pageInfo': {'endCursor': None, 'hasNextPage': False}}}}"
      ]
     },
     "execution_count": 78,
     "metadata": {},
     "output_type": "execute_result"
    }
   ],
   "source": [
    "events = json.loads(response.text)\n",
    "events"
   ]
  },
  {
   "cell_type": "code",
   "execution_count": 79,
   "metadata": {},
   "outputs": [],
   "source": [
    "no_events = len(events['data']['events']['edges'])"
   ]
  },
  {
   "cell_type": "code",
   "execution_count": 85,
   "metadata": {},
   "outputs": [],
   "source": [
    "population_list = []\n",
    "for i in range(no_events):\n",
    "    if i == 0:\n",
    "        # the first one is just a header\n",
    "        continue\n",
    "    try:\n",
    "        _,population=(events['data']['events']['edges'][i]['node']['keys'])\n",
    "    except Exception as e:\n",
    "        pass\n",
    "    population = int(population,16)\n",
    "    # print(year, population)\n",
    "    population_list.append(population)\n",
    "\n"
   ]
  },
  {
   "cell_type": "code",
   "execution_count": 86,
   "metadata": {},
   "outputs": [
    {
     "data": {
      "text/plain": [
       "[0, 0, 8, 10, 26, 30, 30, 22, 20, 4]"
      ]
     },
     "execution_count": 86,
     "metadata": {},
     "output_type": "execute_result"
    }
   ],
   "source": [
    "population_list"
   ]
  },
  {
   "cell_type": "code",
   "execution_count": 104,
   "metadata": {},
   "outputs": [
    {
     "data": {
      "image/png": "[encoded data removed]",
      "text/plain": [
       "<Figure size 640x480 with 1 Axes>"
      ]
     },
     "metadata": {},
     "output_type": "display_data"
    },
    {
     "data": {
      "image/png": "[encoded data removed]",
      "text/plain": [
       "<Figure size 640x480 with 1 Axes>"
      ]
     },
     "metadata": {},
     "output_type": "display_data"
    },
    {
     "data": {
      "image/png": "[encoded data removed]",
      "text/plain": [
       "<Figure size 640x480 with 1 Axes>"
      ]
     },
     "metadata": {},
     "output_type": "display_data"
    },
    {
     "data": {
      "image/png": "[encoded data removed]",
      "text/plain": [
       "<Figure size 640x480 with 1 Axes>"
      ]
     },
     "metadata": {},
     "output_type": "display_data"
    },
    {
     "data": {
      "image/png": "[encoded data removed]",
      "text/plain": [
       "<Figure size 640x480 with 1 Axes>"
      ]
     },
     "metadata": {},
     "output_type": "display_data"
    },
    {
     "data": {
      "image/png": "[encoded data removed]",
      "text/plain": [
       "<Figure size 640x480 with 1 Axes>"
      ]
     },
     "metadata": {},
     "output_type": "display_data"
    },
    {
     "data": {
      "image/png": "[encoded data removed]",
      "text/plain": [
       "<Figure size 640x480 with 1 Axes>"
      ]
     },
     "metadata": {},
     "output_type": "display_data"
    },
    {
     "data": {
      "image/png": "[encoded data removed]",
      "text/plain": [
       "<Figure size 640x480 with 1 Axes>"
      ]
     },
     "metadata": {},
     "output_type": "display_data"
    },
    {
     "data": {
      "image/png": "[encoded data removed]",
      "text/plain": [
       "<Figure size 640x480 with 1 Axes>"
      ]
     },
     "metadata": {},
     "output_type": "display_data"
    },
    {
     "data": {
      "image/png": "[encoded data removed]",
      "text/plain": [
       "<Figure size 640x480 with 1 Axes>"
      ]
     },
     "metadata": {},
     "output_type": "display_data"
    }
   ],
   "source": [
    "# for each of the element of the population list make a plt.plot of the spin latice\n",
    "# first convert this to base 2 and then each of the bit in this representation is a spin\n",
    "# they are either 1 or 0\n",
    "# make a 5x1 box plot where each of the boxes is the value of the spin\n",
    "\n",
    "for j,state in enumerate(population_list):\n",
    "    spin_list = [i for i in bin(state)[2:].zfill(5)]\n",
    "    # matplotlib make 5 boxes with blue or red boxes representing the spin 1 or 0\n",
    "    fig = plt.figure()\n",
    "    ax = fig.add_subplot(111)\n",
    "    for i, spin in enumerate(spin_list):\n",
    "        if spin == '1':\n",
    "            rec = ax.add_patch(patches.Rectangle((i, 0), 1, 1, color='blue'))\n",
    "        else:\n",
    "            rec = ax.add_patch(patches.Rectangle((i, 0), 1, 1, color='red'))\n",
    "        ax.add_patch(rec)\n",
    "\n",
    "    plt.xlim([-0.5, 5.5])\n",
    "    plt.ylim([-1, 2])\n",
    "    plt.yticks([])\n",
    "    plt.savefig(f\"sim/spin_latice_{j}.png\")\n",
    "    plt.show()\n"
   ]
  },
  {
   "cell_type": "code",
   "execution_count": null,
   "metadata": {},
   "outputs": [],
   "source": []
  }
 ],
 "metadata": {
  "kernelspec": {
   "display_name": "Python 3",
   "language": "python",
   "name": "python3"
  },
  "language_info": {
   "codemirror_mode": {
    "name": "ipython",
    "version": 3
   },
   "file_extension": ".py",
   "mimetype": "text/x-python",
   "name": "python",
   "nbconvert_exporter": "python",
   "pygments_lexer": "ipython3",
   "version": "3.12.4"
  }
 },
 "nbformat": 4,
 "nbformat_minor": 2
}
